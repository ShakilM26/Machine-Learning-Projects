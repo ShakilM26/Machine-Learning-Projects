{
 "cells": [
  {
   "cell_type": "code",
   "execution_count": 50,
   "id": "2f2ae2fb",
   "metadata": {},
   "outputs": [],
   "source": [
    "import pandas as pd\n",
    "import numpy as np\n",
    "import matplotlib.pyplot as plt\n",
    "import seaborn as sns\n",
    "import warnings\n",
    "warnings.filterwarnings('ignore')\n",
    "\n",
    "from sklearn.model_selection import train_test_split\n",
    "from sklearn.ensemble import RandomForestClassifier , GradientBoostingClassifier , AdaBoostClassifier\n",
    "from sklearn.metrics import classification_report , confusion_matrix, accuracy_score\n",
    "from sklearn.linear_model import LogisticRegression\n",
    "from sklearn.tree import DecisionTreeClassifier\n",
    "from sklearn.neighbors import KNeighborsClassifier\n",
    "from sklearn.naive_bayes import GaussianNB\n",
    "from sklearn.svm import SVC\n",
    "from sklearn.neural_network import MLPClassifier"
   ]
  },
  {
   "cell_type": "code",
   "execution_count": 51,
   "id": "488c5ab3",
   "metadata": {},
   "outputs": [
    {
     "data": {
      "text/html": [
       "<div>\n",
       "<style scoped>\n",
       "    .dataframe tbody tr th:only-of-type {\n",
       "        vertical-align: middle;\n",
       "    }\n",
       "\n",
       "    .dataframe tbody tr th {\n",
       "        vertical-align: top;\n",
       "    }\n",
       "\n",
       "    .dataframe thead th {\n",
       "        text-align: right;\n",
       "    }\n",
       "</style>\n",
       "<table border=\"1\" class=\"dataframe\">\n",
       "  <thead>\n",
       "    <tr style=\"text-align: right;\">\n",
       "      <th></th>\n",
       "      <th>CustomerID</th>\n",
       "      <th>A1</th>\n",
       "      <th>A2</th>\n",
       "      <th>A3</th>\n",
       "      <th>A4</th>\n",
       "      <th>A5</th>\n",
       "      <th>A6</th>\n",
       "      <th>A7</th>\n",
       "      <th>A8</th>\n",
       "      <th>A9</th>\n",
       "      <th>A10</th>\n",
       "      <th>A11</th>\n",
       "      <th>A12</th>\n",
       "      <th>A13</th>\n",
       "      <th>A14</th>\n",
       "      <th>Class</th>\n",
       "    </tr>\n",
       "  </thead>\n",
       "  <tbody>\n",
       "    <tr>\n",
       "      <th>0</th>\n",
       "      <td>15776156</td>\n",
       "      <td>1</td>\n",
       "      <td>22.08</td>\n",
       "      <td>11.46</td>\n",
       "      <td>2</td>\n",
       "      <td>4</td>\n",
       "      <td>4</td>\n",
       "      <td>1.585</td>\n",
       "      <td>0</td>\n",
       "      <td>0</td>\n",
       "      <td>0</td>\n",
       "      <td>1</td>\n",
       "      <td>2</td>\n",
       "      <td>100</td>\n",
       "      <td>1213</td>\n",
       "      <td>0</td>\n",
       "    </tr>\n",
       "    <tr>\n",
       "      <th>1</th>\n",
       "      <td>15739548</td>\n",
       "      <td>0</td>\n",
       "      <td>22.67</td>\n",
       "      <td>7.00</td>\n",
       "      <td>2</td>\n",
       "      <td>8</td>\n",
       "      <td>4</td>\n",
       "      <td>0.165</td>\n",
       "      <td>0</td>\n",
       "      <td>0</td>\n",
       "      <td>0</td>\n",
       "      <td>0</td>\n",
       "      <td>2</td>\n",
       "      <td>160</td>\n",
       "      <td>1</td>\n",
       "      <td>0</td>\n",
       "    </tr>\n",
       "    <tr>\n",
       "      <th>2</th>\n",
       "      <td>15662854</td>\n",
       "      <td>0</td>\n",
       "      <td>29.58</td>\n",
       "      <td>1.75</td>\n",
       "      <td>1</td>\n",
       "      <td>4</td>\n",
       "      <td>4</td>\n",
       "      <td>1.250</td>\n",
       "      <td>0</td>\n",
       "      <td>0</td>\n",
       "      <td>0</td>\n",
       "      <td>1</td>\n",
       "      <td>2</td>\n",
       "      <td>280</td>\n",
       "      <td>1</td>\n",
       "      <td>0</td>\n",
       "    </tr>\n",
       "    <tr>\n",
       "      <th>3</th>\n",
       "      <td>15687688</td>\n",
       "      <td>0</td>\n",
       "      <td>21.67</td>\n",
       "      <td>11.50</td>\n",
       "      <td>1</td>\n",
       "      <td>5</td>\n",
       "      <td>3</td>\n",
       "      <td>0.000</td>\n",
       "      <td>1</td>\n",
       "      <td>1</td>\n",
       "      <td>11</td>\n",
       "      <td>1</td>\n",
       "      <td>2</td>\n",
       "      <td>0</td>\n",
       "      <td>1</td>\n",
       "      <td>1</td>\n",
       "    </tr>\n",
       "    <tr>\n",
       "      <th>4</th>\n",
       "      <td>15715750</td>\n",
       "      <td>1</td>\n",
       "      <td>20.17</td>\n",
       "      <td>8.17</td>\n",
       "      <td>2</td>\n",
       "      <td>6</td>\n",
       "      <td>4</td>\n",
       "      <td>1.960</td>\n",
       "      <td>1</td>\n",
       "      <td>1</td>\n",
       "      <td>14</td>\n",
       "      <td>0</td>\n",
       "      <td>2</td>\n",
       "      <td>60</td>\n",
       "      <td>159</td>\n",
       "      <td>1</td>\n",
       "    </tr>\n",
       "  </tbody>\n",
       "</table>\n",
       "</div>"
      ],
      "text/plain": [
       "   CustomerID  A1     A2     A3  A4  A5  A6     A7  A8  A9  A10  A11  A12  \\\n",
       "0    15776156   1  22.08  11.46   2   4   4  1.585   0   0    0    1    2   \n",
       "1    15739548   0  22.67   7.00   2   8   4  0.165   0   0    0    0    2   \n",
       "2    15662854   0  29.58   1.75   1   4   4  1.250   0   0    0    1    2   \n",
       "3    15687688   0  21.67  11.50   1   5   3  0.000   1   1   11    1    2   \n",
       "4    15715750   1  20.17   8.17   2   6   4  1.960   1   1   14    0    2   \n",
       "\n",
       "   A13   A14  Class  \n",
       "0  100  1213      0  \n",
       "1  160     1      0  \n",
       "2  280     1      0  \n",
       "3    0     1      1  \n",
       "4   60   159      1  "
      ]
     },
     "execution_count": 51,
     "metadata": {},
     "output_type": "execute_result"
    }
   ],
   "source": [
    "df = pd.read_csv(r'C:/Users/Shakil/Downloads/Compressed/Credit_Card_Applications.csv')\n",
    "df.head()"
   ]
  },
  {
   "cell_type": "code",
   "execution_count": 52,
   "id": "ad9a79af",
   "metadata": {},
   "outputs": [],
   "source": [
    "# drop column\n",
    "df.drop(['CustomerID'], axis=1, inplace=True)"
   ]
  },
  {
   "cell_type": "markdown",
   "id": "f209718e",
   "metadata": {},
   "source": [
    "#### set feature and target"
   ]
  },
  {
   "cell_type": "code",
   "execution_count": 53,
   "id": "82a7d1b0",
   "metadata": {},
   "outputs": [],
   "source": [
    "x = df.drop('Class', axis=1)\n",
    "y = df['Class']"
   ]
  },
  {
   "cell_type": "code",
   "execution_count": 54,
   "id": "ba7d4f12",
   "metadata": {},
   "outputs": [],
   "source": [
    "# split the data\n",
    "xtrain, xtest, ytrain, ytest = train_test_split(x,y,test_size=0.2,random_state=42)"
   ]
  },
  {
   "cell_type": "markdown",
   "id": "4f8de9ee",
   "metadata": {},
   "source": [
    "#### train and test the models"
   ]
  },
  {
   "cell_type": "code",
   "execution_count": 55,
   "id": "8aa1dd2e",
   "metadata": {},
   "outputs": [
    {
     "name": "stdout",
     "output_type": "stream",
     "text": [
      "RandomForestClassifier 0.8840579710144928\n",
      "GradientBoostingClassifier 0.8768115942028986\n",
      "AdaBoostClassifier 0.8623188405797102\n",
      "GaussianNB 0.8188405797101449\n",
      "LogisticRegression 0.8115942028985508\n",
      "KNeighborsClassifier 0.7028985507246377\n",
      "DecisionTreeClassifier 0.8623188405797102\n",
      "MLPClassifier 0.8405797101449275\n",
      "SVC 0.6956521739130435\n"
     ]
    }
   ],
   "source": [
    "models = [RandomForestClassifier(),\n",
    "         GradientBoostingClassifier(),\n",
    "         AdaBoostClassifier(),\n",
    "         GaussianNB(),\n",
    "         LogisticRegression(),\n",
    "         KNeighborsClassifier(),\n",
    "         DecisionTreeClassifier(),\n",
    "         MLPClassifier(),\n",
    "         SVC()]\n",
    "\n",
    "for model in models:\n",
    "    model.fit(xtrain, ytrain)\n",
    "    ypred = model.predict(xtest)\n",
    "    score = accuracy_score(ypred,ytest)\n",
    "    model_name = model.__class__.__name__\n",
    "    #print(f'{model_name} - Precision: {score:.2f}')\n",
    "    print(f'{model_name}', score)"
   ]
  },
  {
   "cell_type": "code",
   "execution_count": null,
   "id": "153365d7",
   "metadata": {},
   "outputs": [],
   "source": []
  },
  {
   "cell_type": "markdown",
   "id": "2da30aa8",
   "metadata": {},
   "source": [
    "### standardization"
   ]
  },
  {
   "cell_type": "code",
   "execution_count": 56,
   "id": "44f6519e",
   "metadata": {},
   "outputs": [],
   "source": [
    "from sklearn.preprocessing import StandardScaler\n",
    "scaler = StandardScaler()\n",
    "x = scaler.fit_transform(x)"
   ]
  },
  {
   "cell_type": "code",
   "execution_count": 57,
   "id": "434da881",
   "metadata": {},
   "outputs": [],
   "source": [
    "# split the data\n",
    "xtrain, xtest, ytrain, ytest = train_test_split(x,y,test_size=0.2,random_state=42)"
   ]
  },
  {
   "cell_type": "code",
   "execution_count": 58,
   "id": "aaebe70d",
   "metadata": {},
   "outputs": [
    {
     "name": "stdout",
     "output_type": "stream",
     "text": [
      "RandomForestClassifier 0.8623188405797102\n",
      "GradientBoostingClassifier 0.8768115942028986\n",
      "AdaBoostClassifier 0.8623188405797102\n",
      "GaussianNB 0.8188405797101449\n",
      "LogisticRegression 0.8768115942028986\n",
      "KNeighborsClassifier 0.8333333333333334\n",
      "DecisionTreeClassifier 0.855072463768116\n",
      "MLPClassifier 0.855072463768116\n",
      "SVC 0.8478260869565217\n"
     ]
    }
   ],
   "source": [
    "models = [RandomForestClassifier(),\n",
    "         GradientBoostingClassifier(),\n",
    "         AdaBoostClassifier(),\n",
    "         GaussianNB(),\n",
    "         LogisticRegression(),\n",
    "         KNeighborsClassifier(),\n",
    "         DecisionTreeClassifier(),\n",
    "         MLPClassifier(),\n",
    "         SVC()]\n",
    "\n",
    "trained_models = {}\n",
    "    \n",
    "for model in models:\n",
    "    model.fit(xtrain, ytrain)\n",
    "    ypred = model.predict(xtest)\n",
    "    score = accuracy_score(ypred, ytest)\n",
    "    model_name = model.__class__.__name__\n",
    "    trained_models[model_name] = model\n",
    "    print(f'{model_name}', score)"
   ]
  },
  {
   "cell_type": "code",
   "execution_count": null,
   "id": "b7f6ac29",
   "metadata": {},
   "outputs": [],
   "source": []
  },
  {
   "cell_type": "code",
   "execution_count": null,
   "id": "2dbdeadf",
   "metadata": {},
   "outputs": [],
   "source": []
  },
  {
   "cell_type": "code",
   "execution_count": 60,
   "id": "dbe437f2",
   "metadata": {},
   "outputs": [
    {
     "name": "stdout",
     "output_type": "stream",
     "text": [
      "Random Forest Test Accuracy 86.23%\n",
      "Gradient Boosting Test Accuracy 87.68%\n",
      "Ada Boosting Test Accuracy 86.23%\n",
      "Gaussian NB Test Accuracy 85.51%\n",
      "Logistic Regression Test Accuracy 87.68%\n",
      "KNN Test Accuracy 83.33%\n",
      "Decision Tree Test Accuracy 85.51%\n",
      "MLP Classifier Test Accuracy 85.51%\n",
      "SVC Test Accuracy 85.51%\n"
     ]
    }
   ],
   "source": [
    "# Access the trained models and their scores\n",
    "print(\"Random Forest Test Accuracy {:.2f}%\".format(trained_models['RandomForestClassifier'].score(xtest, ytest) * 100))\n",
    "print(\"Gradient Boosting Test Accuracy {:.2f}%\".format(trained_models['GradientBoostingClassifier'].score(xtest, ytest) * 100))\n",
    "print(\"Ada Boosting Test Accuracy {:.2f}%\".format(trained_models['AdaBoostClassifier'].score(xtest, ytest) * 100))\n",
    "print(\"Gaussian NB Test Accuracy {:.2f}%\".format(trained_models['DecisionTreeClassifier'].score(xtest, ytest) * 100))\n",
    "print(\"Logistic Regression Test Accuracy {:.2f}%\".format(trained_models['LogisticRegression'].score(xtest, ytest) * 100))\n",
    "print(\"KNN Test Accuracy {:.2f}%\".format(trained_models['KNeighborsClassifier'].score(xtest, ytest) * 100))\n",
    "print(\"Decision Tree Test Accuracy {:.2f}%\".format(trained_models['DecisionTreeClassifier'].score(xtest, ytest) * 100))\n",
    "print(\"MLP Classifier Test Accuracy {:.2f}%\".format(trained_models['DecisionTreeClassifier'].score(xtest, ytest) * 100))\n",
    "print(\"SVC Test Accuracy {:.2f}%\".format(trained_models['DecisionTreeClassifier'].score(xtest, ytest) * 100))\n"
   ]
  },
  {
   "cell_type": "markdown",
   "id": "995286b2",
   "metadata": {},
   "source": [
    "## As we can see, the accuracy of several of our models has increased after scaling. \n",
    "### Such as, \n",
    "\n",
    "##### LogisticRegression 0.81\n",
    "##### KNeighborsClassifier 0.70\n",
    "##### SVC 0.69\n",
    "\n",
    "### *********************\n",
    "\n",
    "##### LogisticRegression 0.87\n",
    "##### KNeighborsClassifier 0.83\n",
    "##### SVC 0.84\n"
   ]
  },
  {
   "cell_type": "code",
   "execution_count": null,
   "id": "8c61404f",
   "metadata": {},
   "outputs": [],
   "source": []
  },
  {
   "cell_type": "code",
   "execution_count": null,
   "id": "f7696383",
   "metadata": {},
   "outputs": [],
   "source": []
  },
  {
   "cell_type": "code",
   "execution_count": null,
   "id": "da41f016",
   "metadata": {},
   "outputs": [],
   "source": []
  },
  {
   "cell_type": "code",
   "execution_count": null,
   "id": "2965ca54",
   "metadata": {},
   "outputs": [],
   "source": []
  },
  {
   "cell_type": "code",
   "execution_count": 38,
   "id": "6da412a3",
   "metadata": {},
   "outputs": [],
   "source": [
    "def performance(model, xtest, ytest):\n",
    "    ypred = model.predict(xtest)\n",
    "    #print(classification_report(ytest, ypred))\n",
    "    #print(confusion_matrix(ytest, ypred))\n",
    "    print(accuracy_score(ytest, ypred))\n",
    "    "
   ]
  }
 ],
 "metadata": {
  "kernelspec": {
   "display_name": "Python 3 (ipykernel)",
   "language": "python",
   "name": "python3"
  },
  "language_info": {
   "codemirror_mode": {
    "name": "ipython",
    "version": 3
   },
   "file_extension": ".py",
   "mimetype": "text/x-python",
   "name": "python",
   "nbconvert_exporter": "python",
   "pygments_lexer": "ipython3",
   "version": "3.10.9"
  }
 },
 "nbformat": 4,
 "nbformat_minor": 5
}
