{
 "cells": [
  {
   "cell_type": "code",
   "execution_count": 42,
   "id": "6cf583ea-352e-4f48-805f-4360d236a584",
   "metadata": {},
   "outputs": [],
   "source": [
    "import pandas as pd\n",
    "import tensorflow as tf\n",
    "from sklearn.model_selection import train_test_split\n",
    "from sklearn.preprocessing import LabelEncoder\n",
    "from tensorflow.keras.preprocessing.text import Tokenizer\n",
    "from tensorflow.keras.preprocessing.sequence import pad_sequences\n",
    "from tensorflow.keras.models import Sequential\n",
    "from tensorflow.keras.layers import Embedding, Dense, LSTM, Dropout"
   ]
  },
  {
   "cell_type": "code",
   "execution_count": 43,
   "id": "259659d9-0122-4ce5-b33f-7089df66d12a",
   "metadata": {},
   "outputs": [
    {
     "data": {
      "text/html": [
       "<div>\n",
       "<style scoped>\n",
       "    .dataframe tbody tr th:only-of-type {\n",
       "        vertical-align: middle;\n",
       "    }\n",
       "\n",
       "    .dataframe tbody tr th {\n",
       "        vertical-align: top;\n",
       "    }\n",
       "\n",
       "    .dataframe thead th {\n",
       "        text-align: right;\n",
       "    }\n",
       "</style>\n",
       "<table border=\"1\" class=\"dataframe\">\n",
       "  <thead>\n",
       "    <tr style=\"text-align: right;\">\n",
       "      <th></th>\n",
       "      <th>item_category</th>\n",
       "      <th>item_id</th>\n",
       "      <th>brand</th>\n",
       "      <th>user_id</th>\n",
       "      <th>date</th>\n",
       "      <th>comment</th>\n",
       "      <th>rating</th>\n",
       "      <th>tonality</th>\n",
       "    </tr>\n",
       "  </thead>\n",
       "  <tbody>\n",
       "    <tr>\n",
       "      <th>0</th>\n",
       "      <td>401</td>\n",
       "      <td>4010201</td>\n",
       "      <td>826</td>\n",
       "      <td>2217</td>\n",
       "      <td>2013-06-28</td>\n",
       "      <td>2,5 года работала и все...устала! Лампочка гор...</td>\n",
       "      <td>2.0</td>\n",
       "      <td>negative</td>\n",
       "    </tr>\n",
       "    <tr>\n",
       "      <th>1</th>\n",
       "      <td>403</td>\n",
       "      <td>4030101</td>\n",
       "      <td>1425</td>\n",
       "      <td>1026</td>\n",
       "      <td>2010-07-04</td>\n",
       "      <td>Через 2 месяца после истечении гарантийного ср...</td>\n",
       "      <td>2.0</td>\n",
       "      <td>negative</td>\n",
       "    </tr>\n",
       "    <tr>\n",
       "      <th>2</th>\n",
       "      <td>401</td>\n",
       "      <td>4010401</td>\n",
       "      <td>124</td>\n",
       "      <td>2769</td>\n",
       "      <td>2010-05-27</td>\n",
       "      <td>пользуюсь уже три недели. нареканий ни каких н...</td>\n",
       "      <td>4.0</td>\n",
       "      <td>positive</td>\n",
       "    </tr>\n",
       "    <tr>\n",
       "      <th>3</th>\n",
       "      <td>203</td>\n",
       "      <td>2030301</td>\n",
       "      <td>93</td>\n",
       "      <td>508</td>\n",
       "      <td>2016-10-11</td>\n",
       "      <td>Ребят этот системный блок подойдёт для игры кс...</td>\n",
       "      <td>5.0</td>\n",
       "      <td>positive</td>\n",
       "    </tr>\n",
       "    <tr>\n",
       "      <th>4</th>\n",
       "      <td>205</td>\n",
       "      <td>2050201</td>\n",
       "      <td>656</td>\n",
       "      <td>1049</td>\n",
       "      <td>2010-02-26</td>\n",
       "      <td>я считаю, что яри замечательный телефон! Прият...</td>\n",
       "      <td>5.0</td>\n",
       "      <td>positive</td>\n",
       "    </tr>\n",
       "  </tbody>\n",
       "</table>\n",
       "</div>"
      ],
      "text/plain": [
       "   item_category  item_id  brand  user_id        date  \\\n",
       "0            401  4010201    826     2217  2013-06-28   \n",
       "1            403  4030101   1425     1026  2010-07-04   \n",
       "2            401  4010401    124     2769  2010-05-27   \n",
       "3            203  2030301     93      508  2016-10-11   \n",
       "4            205  2050201    656     1049  2010-02-26   \n",
       "\n",
       "                                             comment  rating  tonality  \n",
       "0  2,5 года работала и все...устала! Лампочка гор...     2.0  negative  \n",
       "1  Через 2 месяца после истечении гарантийного ср...     2.0  negative  \n",
       "2  пользуюсь уже три недели. нареканий ни каких н...     4.0  positive  \n",
       "3  Ребят этот системный блок подойдёт для игры кс...     5.0  positive  \n",
       "4  я считаю, что яри замечательный телефон! Прият...     5.0  positive  "
      ]
     },
     "execution_count": 43,
     "metadata": {},
     "output_type": "execute_result"
    }
   ],
   "source": [
    "df = pd.read_csv('C:/Users/Shakil/Downloads/Compressed/market_comments.csv')\n",
    "df.head()"
   ]
  },
  {
   "cell_type": "code",
   "execution_count": 44,
   "id": "da822773-fda2-40a0-ab51-adcbc93def9c",
   "metadata": {},
   "outputs": [
    {
     "name": "stdout",
     "output_type": "stream",
     "text": [
      "<class 'pandas.core.frame.DataFrame'>\n",
      "RangeIndex: 14281 entries, 0 to 14280\n",
      "Data columns (total 8 columns):\n",
      " #   Column         Non-Null Count  Dtype  \n",
      "---  ------         --------------  -----  \n",
      " 0   item_category  14281 non-null  int64  \n",
      " 1   item_id        14281 non-null  int64  \n",
      " 2   brand          14281 non-null  int64  \n",
      " 3   user_id        14281 non-null  int64  \n",
      " 4   date           14281 non-null  object \n",
      " 5   comment        14281 non-null  object \n",
      " 6   rating         14281 non-null  float64\n",
      " 7   tonality       14281 non-null  object \n",
      "dtypes: float64(1), int64(4), object(3)\n",
      "memory usage: 892.7+ KB\n"
     ]
    }
   ],
   "source": [
    "df.info()"
   ]
  },
  {
   "cell_type": "code",
   "execution_count": 45,
   "id": "d32c0b40-9b42-43f4-b7c9-368e7b187e7a",
   "metadata": {},
   "outputs": [
    {
     "data": {
      "text/plain": [
       "item_category    0\n",
       "item_id          0\n",
       "brand            0\n",
       "user_id          0\n",
       "date             0\n",
       "comment          0\n",
       "rating           0\n",
       "tonality         0\n",
       "dtype: int64"
      ]
     },
     "execution_count": 45,
     "metadata": {},
     "output_type": "execute_result"
    }
   ],
   "source": [
    "df.isnull().sum()"
   ]
  },
  {
   "cell_type": "code",
   "execution_count": 53,
   "id": "b4ac80fc-f621-41e6-81df-f552fe9d443a",
   "metadata": {},
   "outputs": [],
   "source": [
    "# Preprocess the data\n",
    "def preprocess_data(df):\n",
    "    df = df.dropna(subset=['comment', 'tonality']) #drop rows with missing values\n",
    "    df = df[['comment', 'tonality']] # filter relevant columns\n",
    "    le = LabelEncoder()\n",
    "    df['tonality'] = le.fit_transform(df['tonality']) #convert tonality to binary classification\n",
    "    return df, le"
   ]
  },
  {
   "cell_type": "code",
   "execution_count": 54,
   "id": "fe74ad03-bf70-43b5-bea4-26143d61155a",
   "metadata": {},
   "outputs": [],
   "source": [
    "# split data into training and test\n",
    "def split_data(df):\n",
    "    x = df['comment']\n",
    "    y = df['tonality']\n",
    "    xtrain, xtest, ytrain, ytest = train_test_split(x,y, test_size=0.2,\n",
    "    random_state=42)\n",
    "    return xtrain, xtest, ytrain, ytest"
   ]
  },
  {
   "cell_type": "code",
   "execution_count": 55,
   "id": "9ec1faf3-d1db-49fa-976f-52c5cf552266",
   "metadata": {},
   "outputs": [],
   "source": [
    "# tokenize and pad the sequences\n",
    "def prepare_text_data(xtrain, xtest, max_words=10000, max_len=100):\n",
    "    tokenizer = Tokenizer(num_words = max_words)\n",
    "    tokenizer.fit_on_texts(xtrain)\n",
    "    xtrain_seq = tokenizer.texts_to_sequences(xtrain)\n",
    "    xtest_seq = tokenizer.texts_to_sequences(xtest)\n",
    "    xtrain_pad = pad_sequences(xtrain_seq, maxlen=max_len, padding='post')\n",
    "    xtest_pad = pad_sequences(xtest_seq, maxlen=max_len, padding='post')\n",
    "    return xtrain_pad, xtest_pad, tokenizer"
   ]
  },
  {
   "cell_type": "code",
   "execution_count": 49,
   "id": "f0db4707-cf14-46b9-9cfd-245e93dadf02",
   "metadata": {},
   "outputs": [],
   "source": [
    "# build neural network model\n",
    "def build_model(input_shape):\n",
    "    model = Sequential()\n",
    "    # embedding to transform words into dense vectors\n",
    "    model.add(Embedding(input_dim=10000, output_dim=128)\n",
    "    # LSTM layer for sequence processing\n",
    "    model.add(LSTM(64))\n",
    "    # Dropout for regularization\n",
    "    model.add(Dropout(0.5))\n",
    "    # Dense layer for classification\n",
    "    model.add(Dense(1, activation='sigmoid'))\n",
    "    # compile the model\n",
    "    model.compile(optimizer='adam', loss='binary_crossentropy', metrics=['accuracy'])\n",
    "    return model"
   ]
  },
  {
   "cell_type": "code",
   "execution_count": 50,
   "id": "e924a908-1524-4f36-ad4c-9dd372dc8210",
   "metadata": {},
   "outputs": [],
   "source": [
    "# train and evaluate the model\n",
    "def train_and_evaluate(xtrain, ytrain, xtest, ytest, model):\n",
    "    # train the model\n",
    "    model.fit(xtrain, ytrain, epochs=6, batch_size=16, validation_data=(xtest, ytest))\n",
    "    # evaluate the model\n",
    "    loss, accuracy = model.evaluate(xtest, ytest)\n",
    "    print('Test Loss:', loss)\n",
    "    print('Test Accuracy:', accuracy)"
   ]
  },
  {
   "cell_type": "code",
   "execution_count": 57,
   "id": "7bc717af-b2b1-4b69-a93c-01e3fc8959a6",
   "metadata": {},
   "outputs": [],
   "source": [
    "# run the entire pipeline\n",
    "def main():\n",
    "    # Preprocess the data\n",
    "    processed_data, label_encoder = preprocess_data(df)\n",
    "    xtrain, xtest, ytrain, ytest = split_data(processed_data)\n",
    "\n",
    "    # Prepare the text data\n",
    "    xtrain_pad, xtest_pad, tokenizer = prepare_text_data(xtrain, xtest)\n",
    "\n",
    "    # Build the model\n",
    "    model = build_model(xtrain_pad.shape)\n",
    "\n",
    "    # Train and evaluate the model\n",
    "    train_and_evaluate(xtrain_pad, ytrain, xtest_pad, ytest, model)"
   ]
  },
  {
   "cell_type": "code",
   "execution_count": 58,
   "id": "28aed3fc-0298-4f11-8d9f-5d373f9671ee",
   "metadata": {},
   "outputs": [
    {
     "name": "stderr",
     "output_type": "stream",
     "text": [
      "C:\\Users\\Shakil\\AppData\\Local\\Programs\\Python\\Python312\\Lib\\site-packages\\keras\\src\\layers\\core\\embedding.py:90: UserWarning: Argument `input_length` is deprecated. Just remove it.\n",
      "  warnings.warn(\n"
     ]
    },
    {
     "name": "stdout",
     "output_type": "stream",
     "text": [
      "Epoch 1/6\n",
      "\u001b[1m714/714\u001b[0m \u001b[32m━━━━━━━━━━━━━━━━━━━━\u001b[0m\u001b[37m\u001b[0m \u001b[1m41s\u001b[0m 52ms/step - accuracy: 0.8429 - loss: 0.4559 - val_accuracy: 0.8327 - val_loss: 0.4507\n",
      "Epoch 2/6\n",
      "\u001b[1m714/714\u001b[0m \u001b[32m━━━━━━━━━━━━━━━━━━━━\u001b[0m\u001b[37m\u001b[0m \u001b[1m37s\u001b[0m 52ms/step - accuracy: 0.8368 - loss: 0.4482 - val_accuracy: 0.8327 - val_loss: 0.4500\n",
      "Epoch 3/6\n",
      "\u001b[1m714/714\u001b[0m \u001b[32m━━━━━━━━━━━━━━━━━━━━\u001b[0m\u001b[37m\u001b[0m \u001b[1m37s\u001b[0m 51ms/step - accuracy: 0.8465 - loss: 0.4280 - val_accuracy: 0.8309 - val_loss: 0.4556\n",
      "Epoch 4/6\n",
      "\u001b[1m714/714\u001b[0m \u001b[32m━━━━━━━━━━━━━━━━━━━━\u001b[0m\u001b[37m\u001b[0m \u001b[1m38s\u001b[0m 53ms/step - accuracy: 0.8473 - loss: 0.4200 - val_accuracy: 0.8327 - val_loss: 0.3284\n",
      "Epoch 5/6\n",
      "\u001b[1m714/714\u001b[0m \u001b[32m━━━━━━━━━━━━━━━━━━━━\u001b[0m\u001b[37m\u001b[0m \u001b[1m39s\u001b[0m 55ms/step - accuracy: 0.8820 - loss: 0.2661 - val_accuracy: 0.9027 - val_loss: 0.2453\n",
      "Epoch 6/6\n",
      "\u001b[1m714/714\u001b[0m \u001b[32m━━━━━━━━━━━━━━━━━━━━\u001b[0m\u001b[37m\u001b[0m \u001b[1m38s\u001b[0m 53ms/step - accuracy: 0.9504 - loss: 0.1402 - val_accuracy: 0.9034 - val_loss: 0.2711\n",
      "\u001b[1m90/90\u001b[0m \u001b[32m━━━━━━━━━━━━━━━━━━━━\u001b[0m\u001b[37m\u001b[0m \u001b[1m2s\u001b[0m 18ms/step - accuracy: 0.9050 - loss: 0.2678\n",
      "Test Loss: 0.271123468875885\n",
      "Test Accuracy: 0.9033951759338379\n"
     ]
    }
   ],
   "source": [
    "# calling main func to execute\n",
    "if __name__ == \"__main__\":\n",
    "    main()"
   ]
  },
  {
   "cell_type": "code",
   "execution_count": null,
   "id": "efd190b4-cc47-4eeb-bbc8-250035690282",
   "metadata": {},
   "outputs": [],
   "source": []
  }
 ],
 "metadata": {
  "kernelspec": {
   "display_name": "Python 3 (ipykernel)",
   "language": "python",
   "name": "python3"
  },
  "language_info": {
   "codemirror_mode": {
    "name": "ipython",
    "version": 3
   },
   "file_extension": ".py",
   "mimetype": "text/x-python",
   "name": "python",
   "nbconvert_exporter": "python",
   "pygments_lexer": "ipython3",
   "version": "3.12.6"
  }
 },
 "nbformat": 4,
 "nbformat_minor": 5
}
